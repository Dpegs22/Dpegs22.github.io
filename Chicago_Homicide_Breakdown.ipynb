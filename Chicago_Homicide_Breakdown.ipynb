{
  "nbformat": 4,
  "nbformat_minor": 0,
  "metadata": {
    "colab": {
      "name": "Untitled",
      "provenance": [],
      "collapsed_sections": [],
      "authorship_tag": "ABX9TyONcb2y9wpF4mjWNKFPj3Of",
      "include_colab_link": true
    },
    "kernelspec": {
      "name": "python3",
      "display_name": "Python 3"
    }
  },
  "cells": [
    {
      "cell_type": "markdown",
      "metadata": {
        "id": "view-in-github",
        "colab_type": "text"
      },
      "source": [
        "<a href=\"https://colab.research.google.com/github/Dpegs22/Dpegs22.github.io/blob/master/Chicago_Homicide_Breakdown.ipynb\" target=\"_parent\"><img src=\"https://colab.research.google.com/assets/colab-badge.svg\" alt=\"Open In Colab\"/></a>"
      ]
    },
    {
      "cell_type": "markdown",
      "metadata": {
        "id": "DxPck__rFJT4",
        "colab_type": "text"
      },
      "source": [
        "For my final capstone project, I examined the murder rate in Chicago from 2001 to 2019. I hypothesized that the numbers of murders went down from 2001 to 2019. I looked at numerous things: when murders occurred, where murders occurred, the time of day when murders occurred, and the day of week when murders occurred."
      ]
    },
    {
      "cell_type": "markdown",
      "metadata": {
        "id": "xLA_iGD0FVhl",
        "colab_type": "text"
      },
      "source": [
        "First, I imported the data from the Chicago crime database as seen below."
      ]
    },
    {
      "cell_type": "code",
      "metadata": {
        "id": "7_iAlCNLRjCz",
        "colab_type": "code",
        "outputId": "932c0156-47f9-4b1b-b048-59415bfded2b",
        "colab": {
          "base_uri": "https://localhost:8080/",
          "height": 50
        }
      },
      "source": [
        "import requests\n",
        "broken_url = 'https://data.cityofchicago.org/resource/crimes.json'\n",
        "data = requests.get(broken_url)\n",
        "print(data.ok)\n",
        "print(data.status_code)"
      ],
      "execution_count": 0,
      "outputs": [
        {
          "output_type": "stream",
          "text": [
            "True\n",
            "200\n"
          ],
          "name": "stdout"
        }
      ]
    },
    {
      "cell_type": "markdown",
      "metadata": {
        "id": "enBs3yrAFaOb",
        "colab_type": "text"
      },
      "source": [
        "Next, I imported pandas, numpy, scipy, seaborn, matplot.lib, math, and warnings."
      ]
    },
    {
      "cell_type": "code",
      "metadata": {
        "id": "l4py_sJ-T3wX",
        "colab_type": "code",
        "colab": {}
      },
      "source": [
        "import pandas as pd\n",
        "import numpy as np\n",
        "from scipy import stats as scipy\n",
        "from scipy.stats import ttest_ind\n",
        "import seaborn as sns; sns.set()\n",
        "import matplotlib.pyplot as plt\n",
        "import math\n",
        "from statsmodels.stats.weightstats import ttest_ind\n",
        "# suppress warnings (warnings do not prevent the code from executing)\n",
        "import warnings\n",
        "warnings.filterwarnings(\"ignore\")"
      ],
      "execution_count": 0,
      "outputs": []
    },
    {
      "cell_type": "code",
      "metadata": {
        "id": "1UEcTMtbgZnP",
        "colab_type": "code",
        "outputId": "6a6a2325-8a91-4e16-88aa-30e2a5570274",
        "colab": {
          "base_uri": "https://localhost:8080/",
          "height": 34
        }
      },
      "source": [
        "#@title\n",
        "from google.colab import drive\n",
        "drive.mount('/content/gdrive')"
      ],
      "execution_count": 0,
      "outputs": [
        {
          "output_type": "stream",
          "text": [
            "Drive already mounted at /content/gdrive; to attempt to forcibly remount, call drive.mount(\"/content/gdrive\", force_remount=True).\n"
          ],
          "name": "stdout"
        }
      ]
    },
    {
      "cell_type": "code",
      "metadata": {
        "id": "9MVTLaGkiiwS",
        "colab_type": "code",
        "colab": {}
      },
      "source": [
        "df = pd.read_csv('/content/gdrive/My Drive/Capstone Project 3/Homicides_from_2001_to_2019.csv')"
      ],
      "execution_count": 0,
      "outputs": []
    },
    {
      "cell_type": "markdown",
      "metadata": {
        "id": "TBbwGr34r8dA",
        "colab_type": "text"
      },
      "source": [
        "# Data Investigation and Manipulation\n",
        "\n",
        "Below is a description of the data. There is 10,037 entries in 22 columns.\n",
        "\n"
      ]
    },
    {
      "cell_type": "code",
      "metadata": {
        "id": "317kmpQtGNbc",
        "colab_type": "code",
        "outputId": "254e020c-1058-4491-ee8a-d83f58e99725",
        "colab": {
          "base_uri": "https://localhost:8080/",
          "height": 50
        }
      },
      "source": [
        "# Shows all of the years including 2020\n",
        "df.Year.unique()"
      ],
      "execution_count": 0,
      "outputs": [
        {
          "output_type": "execute_result",
          "data": {
            "text/plain": [
              "array([2001, 2002, 2003, 2004, 2005, 2006, 2007, 2008, 2009, 2010, 2011,\n",
              "       2012, 2013, 2014, 2015, 2016, 2017, 2018, 2019, 2020])"
            ]
          },
          "metadata": {
            "tags": []
          },
          "execution_count": 52
        }
      ]
    },
    {
      "cell_type": "code",
      "metadata": {
        "id": "55xjaGxTGIER",
        "colab_type": "code",
        "outputId": "352f3652-def9-4e40-e627-52b729d3a9a0",
        "colab": {
          "base_uri": "https://localhost:8080/",
          "height": 50
        }
      },
      "source": [
        "# Removes 2020\n",
        "df_not_2020 = df[df.Year != 2020]\n",
        "df_not_2020.Year.unique()"
      ],
      "execution_count": 0,
      "outputs": [
        {
          "output_type": "execute_result",
          "data": {
            "text/plain": [
              "array([2001, 2002, 2003, 2004, 2005, 2006, 2007, 2008, 2009, 2010, 2011,\n",
              "       2012, 2013, 2014, 2015, 2016, 2017, 2018, 2019])"
            ]
          },
          "metadata": {
            "tags": []
          },
          "execution_count": 53
        }
      ]
    },
    {
      "cell_type": "code",
      "metadata": {
        "id": "npdbT0OaG326",
        "colab_type": "code",
        "outputId": "f5956e9e-c765-4c30-a921-d1bd8147fdb6",
        "colab": {
          "base_uri": "https://localhost:8080/",
          "height": 118
        }
      },
      "source": [
        "# Shows all of the columns\n",
        "df_not_2020.columns"
      ],
      "execution_count": 0,
      "outputs": [
        {
          "output_type": "execute_result",
          "data": {
            "text/plain": [
              "Index(['ID', 'Case Number', 'Date', 'Block', 'IUCR', 'Primary Type',\n",
              "       'Description', 'Location Description', 'Arrest', 'Domestic', 'Beat',\n",
              "       'District', 'Ward', 'Community Area', 'FBI Code', 'X Coordinate',\n",
              "       'Y Coordinate', 'Year', 'Updated On', 'Latitude', 'Longitude',\n",
              "       'Location'],\n",
              "      dtype='object')"
            ]
          },
          "metadata": {
            "tags": []
          },
          "execution_count": 54
        }
      ]
    },
    {
      "cell_type": "code",
      "metadata": {
        "id": "ZAn1NTdWGAcX",
        "colab_type": "code",
        "outputId": "38fe9d3b-c74e-4904-ff0f-1a63a22dfdb7",
        "colab": {
          "base_uri": "https://localhost:8080/",
          "height": 470
        }
      },
      "source": [
        "# information about the data set\n",
        "df_not_2020.info()"
      ],
      "execution_count": 0,
      "outputs": [
        {
          "output_type": "stream",
          "text": [
            "<class 'pandas.core.frame.DataFrame'>\n",
            "Int64Index: 10037 entries, 0 to 10036\n",
            "Data columns (total 22 columns):\n",
            "ID                      10037 non-null int64\n",
            "Case Number             10037 non-null object\n",
            "Date                    10037 non-null object\n",
            "Block                   10037 non-null object\n",
            "IUCR                    10037 non-null int64\n",
            "Primary Type            10037 non-null object\n",
            "Description             10037 non-null object\n",
            "Location Description    10037 non-null object\n",
            "Arrest                  10037 non-null bool\n",
            "Domestic                10037 non-null bool\n",
            "Beat                    10037 non-null int64\n",
            "District                10037 non-null int64\n",
            "Ward                    9653 non-null float64\n",
            "Community Area          9653 non-null float64\n",
            "FBI Code                10037 non-null object\n",
            "X Coordinate            10034 non-null float64\n",
            "Y Coordinate            10034 non-null float64\n",
            "Year                    10037 non-null int64\n",
            "Updated On              10037 non-null object\n",
            "Latitude                10034 non-null float64\n",
            "Longitude               10034 non-null float64\n",
            "Location                10034 non-null object\n",
            "dtypes: bool(2), float64(6), int64(5), object(9)\n",
            "memory usage: 1.6+ MB\n"
          ],
          "name": "stdout"
        }
      ]
    },
    {
      "cell_type": "markdown",
      "metadata": {
        "id": "VDKChZnergpO",
        "colab_type": "text"
      },
      "source": [
        "\n",
        "Now, I began manipulating data in order to create visuals. First, I converted all of the police districts into one of three locations: South, Central, North."
      ]
    },
    {
      "cell_type": "code",
      "metadata": {
        "id": "rvFBIsblHO0g",
        "colab_type": "code",
        "outputId": "754f1b85-2f0f-4f88-bc0b-3bb658c4657e",
        "colab": {
          "base_uri": "https://localhost:8080/",
          "height": 402
        }
      },
      "source": [
        "def district_location(n):\n",
        "\tif n['District'] == 4: return 'South' \n",
        "\tif n['District'] == 5: return 'South'\n",
        "\tif n['District'] == 6: return 'South'\n",
        "\tif n['District'] == 22: return 'South'\n",
        "\tif n['District'] == 1: return 'Central'\n",
        "\tif n['District'] == 2: return 'Central'\n",
        "\tif n['District'] == 3: return 'Central'\n",
        "\tif n['District'] == 8: return 'Central'\n",
        "\tif n['District'] == 9: return 'Central'\n",
        "\tif n['District'] == 10: return 'Central'\n",
        "\tif n['District'] == 12: return 'Central'\n",
        "\tif n['District'] == 18: return 'Central'\n",
        "\telse:\n",
        "\t\treturn 'North'\n",
        "\n",
        "df_not_2020['district_string'] = df_not_2020.apply(district_location,axis = 1)\n",
        "df_not_2020[['District', 'district_string']]"
      ],
      "execution_count": 0,
      "outputs": [
        {
          "output_type": "execute_result",
          "data": {
            "text/html": [
              "<div>\n",
              "<style scoped>\n",
              "    .dataframe tbody tr th:only-of-type {\n",
              "        vertical-align: middle;\n",
              "    }\n",
              "\n",
              "    .dataframe tbody tr th {\n",
              "        vertical-align: top;\n",
              "    }\n",
              "\n",
              "    .dataframe thead th {\n",
              "        text-align: right;\n",
              "    }\n",
              "</style>\n",
              "<table border=\"1\" class=\"dataframe\">\n",
              "  <thead>\n",
              "    <tr style=\"text-align: right;\">\n",
              "      <th></th>\n",
              "      <th>District</th>\n",
              "      <th>district_string</th>\n",
              "    </tr>\n",
              "  </thead>\n",
              "  <tbody>\n",
              "    <tr>\n",
              "      <th>0</th>\n",
              "      <td>18</td>\n",
              "      <td>Central</td>\n",
              "    </tr>\n",
              "    <tr>\n",
              "      <th>1</th>\n",
              "      <td>11</td>\n",
              "      <td>North</td>\n",
              "    </tr>\n",
              "    <tr>\n",
              "      <th>2</th>\n",
              "      <td>10</td>\n",
              "      <td>Central</td>\n",
              "    </tr>\n",
              "    <tr>\n",
              "      <th>3</th>\n",
              "      <td>8</td>\n",
              "      <td>Central</td>\n",
              "    </tr>\n",
              "    <tr>\n",
              "      <th>4</th>\n",
              "      <td>25</td>\n",
              "      <td>North</td>\n",
              "    </tr>\n",
              "    <tr>\n",
              "      <th>...</th>\n",
              "      <td>...</td>\n",
              "      <td>...</td>\n",
              "    </tr>\n",
              "    <tr>\n",
              "      <th>10032</th>\n",
              "      <td>6</td>\n",
              "      <td>South</td>\n",
              "    </tr>\n",
              "    <tr>\n",
              "      <th>10033</th>\n",
              "      <td>8</td>\n",
              "      <td>Central</td>\n",
              "    </tr>\n",
              "    <tr>\n",
              "      <th>10034</th>\n",
              "      <td>7</td>\n",
              "      <td>North</td>\n",
              "    </tr>\n",
              "    <tr>\n",
              "      <th>10035</th>\n",
              "      <td>5</td>\n",
              "      <td>South</td>\n",
              "    </tr>\n",
              "    <tr>\n",
              "      <th>10036</th>\n",
              "      <td>6</td>\n",
              "      <td>South</td>\n",
              "    </tr>\n",
              "  </tbody>\n",
              "</table>\n",
              "<p>10037 rows × 2 columns</p>\n",
              "</div>"
            ],
            "text/plain": [
              "       District district_string\n",
              "0            18         Central\n",
              "1            11           North\n",
              "2            10         Central\n",
              "3             8         Central\n",
              "4            25           North\n",
              "...         ...             ...\n",
              "10032         6           South\n",
              "10033         8         Central\n",
              "10034         7           North\n",
              "10035         5           South\n",
              "10036         6           South\n",
              "\n",
              "[10037 rows x 2 columns]"
            ]
          },
          "metadata": {
            "tags": []
          },
          "execution_count": 56
        }
      ]
    },
    {
      "cell_type": "markdown",
      "metadata": {
        "id": "JgJMJCRNIyC_",
        "colab_type": "text"
      },
      "source": [
        "# Now, I created some graphs that explain the data.\n",
        "\n",
        "\n"
      ]
    },
    {
      "cell_type": "markdown",
      "metadata": {
        "id": "aqt7mMjGI-iR",
        "colab_type": "text"
      },
      "source": [
        "This graph shows the number of murders for each of the 25 districts.\n"
      ]
    },
    {
      "cell_type": "code",
      "metadata": {
        "id": "cNE6IVYNyPVq",
        "colab_type": "code",
        "outputId": "41500a9f-708b-4b2b-9165-0580f06b69f8",
        "colab": {
          "base_uri": "https://localhost:8080/",
          "height": 285
        }
      },
      "source": [
        "ax = sns.countplot(x = 'District', hue = 'district_string', data = df_not_2020, dodge = False)\n",
        "#df_not_2020.groupby(['District', 'district_string']).size()"
      ],
      "execution_count": 0,
      "outputs": [
        {
          "output_type": "display_data",
          "data": {
            "image/png": "[encoded data removed]",
            "text/plain": [
              "<Figure size 432x288 with 1 Axes>"
            ]
          },
          "metadata": {
            "tags": []
          }
        }
      ]
    },
    {
      "cell_type": "markdown",
      "metadata": {
        "id": "6PANVDAGJKkM",
        "colab_type": "text"
      },
      "source": [
        "\n",
        "\n",
        "\n",
        "\n",
        "\n",
        "This graph shows the total number of murders for each area of Chicago. The exact numbers are on the bottom."
      ]
    },
    {
      "cell_type": "code",
      "metadata": {
        "id": "Kx8yJgklwI-7",
        "colab_type": "code",
        "outputId": "c693c234-e7e6-4495-b27f-a1c523dfd78e",
        "colab": {
          "base_uri": "https://localhost:8080/",
          "height": 352
        }
      },
      "source": [
        "# Shows the total number of murders for each area within Chicago\n",
        "p = pd.value_counts(df_not_2020['district_string'])\n",
        "print(p)\n",
        "\n",
        "# Creates a bar graph of the data\n",
        "dx = sns.countplot(x = df_not_2020['district_string'], data = df_not_2020)"
      ],
      "execution_count": 0,
      "outputs": [
        {
          "output_type": "stream",
          "text": [
            "North      3933\n",
            "Central    3667\n",
            "South      2437\n",
            "Name: district_string, dtype: int64\n"
          ],
          "name": "stdout"
        },
        {
          "output_type": "display_data",
          "data": {
            "image/png": "[encoded data removed]",
            "text/plain": [
              "<Figure size 432x288 with 1 Axes>"
            ]
          },
          "metadata": {
            "tags": []
          }
        }
      ]
    },
    {
      "cell_type": "markdown",
      "metadata": {
        "id": "l5ttgM0UKED1",
        "colab_type": "text"
      },
      "source": [
        "This graph shows the total number of homicides for each year from 2001 to 2019."
      ]
    },
    {
      "cell_type": "code",
      "metadata": {
        "id": "mDnTkjhrG8EC",
        "colab_type": "code",
        "outputId": "d0b51881-45a3-4a4c-9ba1-f8f9c33b51eb",
        "colab": {
          "base_uri": "https://localhost:8080/",
          "height": 303
        }
      },
      "source": [
        "df_not_2020.groupby('Year').size().plot.line(legend='') \n",
        "plt.xlabel('Year') \n",
        "plt.ylabel('Murders')"
      ],
      "execution_count": 0,
      "outputs": [
        {
          "output_type": "execute_result",
          "data": {
            "text/plain": [
              "Text(0, 0.5, 'Murders')"
            ]
          },
          "metadata": {
            "tags": []
          },
          "execution_count": 59
        },
        {
          "output_type": "display_data",
          "data": {
            "image/png": "[encoded data removed]",
            "text/plain": [
              "<Figure size 432x288 with 1 Axes>"
            ]
          },
          "metadata": {
            "tags": []
          }
        }
      ]
    },
    {
      "cell_type": "markdown",
      "metadata": {
        "id": "qGYuOPWTOSjr",
        "colab_type": "text"
      },
      "source": [
        "This creates a line plot of the number of homicides that occur at each hour of the day"
      ]
    },
    {
      "cell_type": "code",
      "metadata": {
        "id": "YygqLV4FHyp9",
        "colab_type": "code",
        "colab": {}
      },
      "source": [
        "# This creates a function hr_func\n",
        "def hr_func(ts):\n",
        "    return ts.hour\n",
        "df_not_2020['Date']= pd.to_datetime(df_not_2020['Date'])\n",
        "df_not_2020['Hour'] = df_not_2020['Date'].apply(hr_func)\n",
        "\n",
        "import pandas as pd\n",
        "df_not_2020['Week Day'] = df_not_2020['Date'].dt.day_name()\n",
        "\n",
        "#dg = pd.Timestamp(df_not_2020['Date'].values)\n",
        "#print(df_not_2020['Date'].dt.day_name())"
      ],
      "execution_count": 0,
      "outputs": []
    },
    {
      "cell_type": "code",
      "metadata": {
        "colab_type": "code",
        "outputId": "f9773683-dab3-4c07-a8eb-c2d2f362cf25",
        "id": "zF97qR-CgV0V",
        "colab": {
          "base_uri": "https://localhost:8080/",
          "height": 306
        }
      },
      "source": [
        "# This lineplot determines at what time of day the murders occurred\n",
        "df_not_2020.groupby('Hour').size().plot.line(legend='') \n",
        "plt.xlabel('Hour') \n",
        "plt.ylabel('Murders')\n",
        "#lineplot(table(responses), horiz=T, xlab=\"Hour\",ylab=\"Homicides\")"
      ],
      "execution_count": 0,
      "outputs": [
        {
          "output_type": "execute_result",
          "data": {
            "text/plain": [
              "Text(0, 0.5, 'Murders')"
            ]
          },
          "metadata": {
            "tags": []
          },
          "execution_count": 61
        },
        {
          "output_type": "display_data",
          "data": {
            "image/png": "[encoded data removed]",
            "text/plain": [
              "<Figure size 432x288 with 1 Axes>"
            ]
          },
          "metadata": {
            "tags": []
          }
        }
      ]
    },
    {
      "cell_type": "code",
      "metadata": {
        "id": "NjfSu2s0gWzz",
        "colab_type": "code",
        "outputId": "4048a464-5983-4e87-87ec-b800d85d67b4",
        "colab": {
          "base_uri": "https://localhost:8080/",
          "height": 356
        }
      },
      "source": [
        "# This bar graph determines what day of the week the murders occurred\n",
        "df_not_2020.groupby('Week Day').size().plot.bar(legend='') \n",
        "plt.xlabel('Week Day') \n",
        "plt.ylabel('Murders')"
      ],
      "execution_count": 0,
      "outputs": [
        {
          "output_type": "execute_result",
          "data": {
            "text/plain": [
              "Text(0, 0.5, 'Murders')"
            ]
          },
          "metadata": {
            "tags": []
          },
          "execution_count": 62
        },
        {
          "output_type": "display_data",
          "data": {
            "image/png": "[encoded data removed]",
            "text/plain": [
              "<Figure size 432x288 with 1 Axes>"
            ]
          },
          "metadata": {
            "tags": []
          }
        }
      ]
    },
    {
      "cell_type": "markdown",
      "metadata": {
        "id": "J5m5Vrt3Oztz",
        "colab_type": "text"
      },
      "source": [
        "# Now it time to do some hypothesis testing on the data. "
      ]
    },
    {
      "cell_type": "markdown",
      "metadata": {
        "id": "Vv3PtqKmQq9y",
        "colab_type": "text"
      },
      "source": [
        "I want to examine if there is a significant difference in the number of murders before and after 2010. I examined the hour of the day. \n",
        "My null hypothesis is \n",
        "\n",
        "\n",
        "\n",
        "*   Ho: p1 - p2 = 0\n",
        "*   Ha: p1 - p2 ≠ 0"
      ]
    },
    {
      "cell_type": "markdown",
      "metadata": {
        "id": "etp04PP7O7zH",
        "colab_type": "text"
      },
      "source": [
        "First, I created two new dataframes: one for before 2009 and one for after 2009"
      ]
    },
    {
      "cell_type": "code",
      "metadata": {
        "id": "B6z5Nd1DOyId",
        "colab_type": "code",
        "colab": {}
      },
      "source": [
        "# before_2009 and before_2010 are two new dataframes\n",
        "before_2010 = df_not_2020[(df_not_2020.Year >= 2000) & (df_not_2020.Year <= 2009)]\n",
        "after_2010 = df_not_2020[df_not_2020.Year >= 2010]\n",
        "\n",
        "# created 2 new columns in the 2 new dataframes\n",
        "before_2010['type'] = \"before 2010\"\n",
        "after_2010['type'] = \"after 2010\""
      ],
      "execution_count": 0,
      "outputs": []
    },
    {
      "cell_type": "code",
      "metadata": {
        "id": "q67C38knP4u3",
        "colab_type": "code",
        "outputId": "3ed62c82-a024-4c76-eb83-59f9dbd8c2a4",
        "colab": {
          "base_uri": "https://localhost:8080/",
          "height": 774
        }
      },
      "source": [
        "# before 2010 data frame\n",
        "before_2010"
      ],
      "execution_count": 0,
      "outputs": [
        {
          "output_type": "execute_result",
          "data": {
            "text/html": [
              "<div>\n",
              "<style scoped>\n",
              "    .dataframe tbody tr th:only-of-type {\n",
              "        vertical-align: middle;\n",
              "    }\n",
              "\n",
              "    .dataframe tbody tr th {\n",
              "        vertical-align: top;\n",
              "    }\n",
              "\n",
              "    .dataframe thead th {\n",
              "        text-align: right;\n",
              "    }\n",
              "</style>\n",
              "<table border=\"1\" class=\"dataframe\">\n",
              "  <thead>\n",
              "    <tr style=\"text-align: right;\">\n",
              "      <th></th>\n",
              "      <th>ID</th>\n",
              "      <th>Case Number</th>\n",
              "      <th>Date</th>\n",
              "      <th>Block</th>\n",
              "      <th>IUCR</th>\n",
              "      <th>Primary Type</th>\n",
              "      <th>Description</th>\n",
              "      <th>Location Description</th>\n",
              "      <th>Arrest</th>\n",
              "      <th>Domestic</th>\n",
              "      <th>Beat</th>\n",
              "      <th>District</th>\n",
              "      <th>Ward</th>\n",
              "      <th>Community Area</th>\n",
              "      <th>FBI Code</th>\n",
              "      <th>X Coordinate</th>\n",
              "      <th>Y Coordinate</th>\n",
              "      <th>Year</th>\n",
              "      <th>Updated On</th>\n",
              "      <th>Latitude</th>\n",
              "      <th>Longitude</th>\n",
              "      <th>Location</th>\n",
              "      <th>district_string</th>\n",
              "      <th>Hour</th>\n",
              "      <th>Week Day</th>\n",
              "      <th>type</th>\n",
              "    </tr>\n",
              "  </thead>\n",
              "  <tbody>\n",
              "    <tr>\n",
              "      <th>0</th>\n",
              "      <td>983</td>\n",
              "      <td>G446123</td>\n",
              "      <td>2001-07-29 10:15:00</td>\n",
              "      <td>011XX N LASALLE ST</td>\n",
              "      <td>110</td>\n",
              "      <td>HOMICIDE</td>\n",
              "      <td>FIRST DEGREE MURDER</td>\n",
              "      <td>ALLEY</td>\n",
              "      <td>True</td>\n",
              "      <td>False</td>\n",
              "      <td>1824</td>\n",
              "      <td>18</td>\n",
              "      <td>NaN</td>\n",
              "      <td>NaN</td>\n",
              "      <td>01A</td>\n",
              "      <td>NaN</td>\n",
              "      <td>NaN</td>\n",
              "      <td>2001</td>\n",
              "      <td>5/3/2018 15:49</td>\n",
              "      <td>NaN</td>\n",
              "      <td>NaN</td>\n",
              "      <td>NaN</td>\n",
              "      <td>Central</td>\n",
              "      <td>10</td>\n",
              "      <td>Sunday</td>\n",
              "      <td>before 2010</td>\n",
              "    </tr>\n",
              "    <tr>\n",
              "      <th>1</th>\n",
              "      <td>905</td>\n",
              "      <td>G380193</td>\n",
              "      <td>2001-06-29 23:26:00</td>\n",
              "      <td>034XX W FULTON ST</td>\n",
              "      <td>110</td>\n",
              "      <td>HOMICIDE</td>\n",
              "      <td>FIRST DEGREE MURDER</td>\n",
              "      <td>STREET</td>\n",
              "      <td>True</td>\n",
              "      <td>False</td>\n",
              "      <td>1123</td>\n",
              "      <td>11</td>\n",
              "      <td>NaN</td>\n",
              "      <td>NaN</td>\n",
              "      <td>01A</td>\n",
              "      <td>0.0</td>\n",
              "      <td>0.0</td>\n",
              "      <td>2001</td>\n",
              "      <td>5/3/2018 15:49</td>\n",
              "      <td>36.619446</td>\n",
              "      <td>-91.686566</td>\n",
              "      <td>(36.619446395, -91.686565684)</td>\n",
              "      <td>North</td>\n",
              "      <td>23</td>\n",
              "      <td>Friday</td>\n",
              "      <td>before 2010</td>\n",
              "    </tr>\n",
              "    <tr>\n",
              "      <th>2</th>\n",
              "      <td>937</td>\n",
              "      <td>G411262</td>\n",
              "      <td>2001-07-15 00:34:00</td>\n",
              "      <td>030XX S HARDING ST</td>\n",
              "      <td>110</td>\n",
              "      <td>HOMICIDE</td>\n",
              "      <td>FIRST DEGREE MURDER</td>\n",
              "      <td>STREET</td>\n",
              "      <td>False</td>\n",
              "      <td>False</td>\n",
              "      <td>1031</td>\n",
              "      <td>10</td>\n",
              "      <td>NaN</td>\n",
              "      <td>NaN</td>\n",
              "      <td>01A</td>\n",
              "      <td>0.0</td>\n",
              "      <td>0.0</td>\n",
              "      <td>2001</td>\n",
              "      <td>5/3/2018 15:49</td>\n",
              "      <td>36.619446</td>\n",
              "      <td>-91.686566</td>\n",
              "      <td>(36.619446395, -91.686565684)</td>\n",
              "      <td>Central</td>\n",
              "      <td>0</td>\n",
              "      <td>Sunday</td>\n",
              "      <td>before 2010</td>\n",
              "    </tr>\n",
              "    <tr>\n",
              "      <th>3</th>\n",
              "      <td>1000</td>\n",
              "      <td>G397434</td>\n",
              "      <td>2001-08-09 19:30:00</td>\n",
              "      <td>079XX S CAMPBELL AVE</td>\n",
              "      <td>110</td>\n",
              "      <td>HOMICIDE</td>\n",
              "      <td>FIRST DEGREE MURDER</td>\n",
              "      <td>STREET</td>\n",
              "      <td>True</td>\n",
              "      <td>False</td>\n",
              "      <td>835</td>\n",
              "      <td>8</td>\n",
              "      <td>18.0</td>\n",
              "      <td>70.0</td>\n",
              "      <td>01A</td>\n",
              "      <td>1161093.0</td>\n",
              "      <td>1851842.0</td>\n",
              "      <td>2001</td>\n",
              "      <td>3/19/2019 16:11</td>\n",
              "      <td>41.749136</td>\n",
              "      <td>-87.685268</td>\n",
              "      <td>(41.749135591, -87.685268108)</td>\n",
              "      <td>Central</td>\n",
              "      <td>19</td>\n",
              "      <td>Thursday</td>\n",
              "      <td>before 2010</td>\n",
              "    </tr>\n",
              "    <tr>\n",
              "      <th>4</th>\n",
              "      <td>1001</td>\n",
              "      <td>G473112</td>\n",
              "      <td>2001-08-10 01:04:00</td>\n",
              "      <td>048XX W KAMERLING AVE</td>\n",
              "      <td>110</td>\n",
              "      <td>HOMICIDE</td>\n",
              "      <td>FIRST DEGREE MURDER</td>\n",
              "      <td>STREET</td>\n",
              "      <td>False</td>\n",
              "      <td>False</td>\n",
              "      <td>2533</td>\n",
              "      <td>25</td>\n",
              "      <td>37.0</td>\n",
              "      <td>25.0</td>\n",
              "      <td>01A</td>\n",
              "      <td>1143890.0</td>\n",
              "      <td>1908544.0</td>\n",
              "      <td>2001</td>\n",
              "      <td>3/19/2019 16:11</td>\n",
              "      <td>41.905073</td>\n",
              "      <td>-87.746889</td>\n",
              "      <td>(41.905072512, -87.746889161)</td>\n",
              "      <td>North</td>\n",
              "      <td>1</td>\n",
              "      <td>Friday</td>\n",
              "      <td>before 2010</td>\n",
              "    </tr>\n",
              "    <tr>\n",
              "      <th>...</th>\n",
              "      <td>...</td>\n",
              "      <td>...</td>\n",
              "      <td>...</td>\n",
              "      <td>...</td>\n",
              "      <td>...</td>\n",
              "      <td>...</td>\n",
              "      <td>...</td>\n",
              "      <td>...</td>\n",
              "      <td>...</td>\n",
              "      <td>...</td>\n",
              "      <td>...</td>\n",
              "      <td>...</td>\n",
              "      <td>...</td>\n",
              "      <td>...</td>\n",
              "      <td>...</td>\n",
              "      <td>...</td>\n",
              "      <td>...</td>\n",
              "      <td>...</td>\n",
              "      <td>...</td>\n",
              "      <td>...</td>\n",
              "      <td>...</td>\n",
              "      <td>...</td>\n",
              "      <td>...</td>\n",
              "      <td>...</td>\n",
              "      <td>...</td>\n",
              "      <td>...</td>\n",
              "    </tr>\n",
              "    <tr>\n",
              "      <th>4727</th>\n",
              "      <td>5120</td>\n",
              "      <td>HR412222</td>\n",
              "      <td>2009-07-14 00:30:00</td>\n",
              "      <td>006XX E 87TH ST</td>\n",
              "      <td>110</td>\n",
              "      <td>HOMICIDE</td>\n",
              "      <td>FIRST DEGREE MURDER</td>\n",
              "      <td>AUTO</td>\n",
              "      <td>False</td>\n",
              "      <td>False</td>\n",
              "      <td>632</td>\n",
              "      <td>6</td>\n",
              "      <td>6.0</td>\n",
              "      <td>44.0</td>\n",
              "      <td>01A</td>\n",
              "      <td>1182200.0</td>\n",
              "      <td>1847444.0</td>\n",
              "      <td>2009</td>\n",
              "      <td>3/18/2019 16:08</td>\n",
              "      <td>41.736605</td>\n",
              "      <td>-87.608060</td>\n",
              "      <td>(41.736604706, -87.608060119)</td>\n",
              "      <td>South</td>\n",
              "      <td>0</td>\n",
              "      <td>Tuesday</td>\n",
              "      <td>before 2010</td>\n",
              "    </tr>\n",
              "    <tr>\n",
              "      <th>4728</th>\n",
              "      <td>5121</td>\n",
              "      <td>HR427696</td>\n",
              "      <td>2009-07-14 04:00:00</td>\n",
              "      <td>006XX W 89TH ST</td>\n",
              "      <td>110</td>\n",
              "      <td>HOMICIDE</td>\n",
              "      <td>FIRST DEGREE MURDER</td>\n",
              "      <td>STREET</td>\n",
              "      <td>False</td>\n",
              "      <td>False</td>\n",
              "      <td>2223</td>\n",
              "      <td>22</td>\n",
              "      <td>21.0</td>\n",
              "      <td>71.0</td>\n",
              "      <td>01A</td>\n",
              "      <td>1173385.0</td>\n",
              "      <td>1845901.0</td>\n",
              "      <td>2009</td>\n",
              "      <td>3/18/2019 16:08</td>\n",
              "      <td>41.732570</td>\n",
              "      <td>-87.640401</td>\n",
              "      <td>(41.732569819, -87.640400769)</td>\n",
              "      <td>South</td>\n",
              "      <td>4</td>\n",
              "      <td>Tuesday</td>\n",
              "      <td>before 2010</td>\n",
              "    </tr>\n",
              "    <tr>\n",
              "      <th>4729</th>\n",
              "      <td>5122</td>\n",
              "      <td>HR427791</td>\n",
              "      <td>2009-07-14 03:56:00</td>\n",
              "      <td>017XX S UNION AVE</td>\n",
              "      <td>110</td>\n",
              "      <td>HOMICIDE</td>\n",
              "      <td>FIRST DEGREE MURDER</td>\n",
              "      <td>AUTO</td>\n",
              "      <td>False</td>\n",
              "      <td>False</td>\n",
              "      <td>1233</td>\n",
              "      <td>12</td>\n",
              "      <td>25.0</td>\n",
              "      <td>31.0</td>\n",
              "      <td>01A</td>\n",
              "      <td>1171821.0</td>\n",
              "      <td>1891561.0</td>\n",
              "      <td>2009</td>\n",
              "      <td>3/18/2019 16:08</td>\n",
              "      <td>41.857900</td>\n",
              "      <td>-87.644791</td>\n",
              "      <td>(41.857900215, -87.6447906)</td>\n",
              "      <td>Central</td>\n",
              "      <td>3</td>\n",
              "      <td>Tuesday</td>\n",
              "      <td>before 2010</td>\n",
              "    </tr>\n",
              "    <tr>\n",
              "      <th>4730</th>\n",
              "      <td>5123</td>\n",
              "      <td>HR431090</td>\n",
              "      <td>2009-07-15 22:07:00</td>\n",
              "      <td>029XX W PALMER ST</td>\n",
              "      <td>110</td>\n",
              "      <td>HOMICIDE</td>\n",
              "      <td>FIRST DEGREE MURDER</td>\n",
              "      <td>STREET</td>\n",
              "      <td>False</td>\n",
              "      <td>False</td>\n",
              "      <td>1414</td>\n",
              "      <td>14</td>\n",
              "      <td>35.0</td>\n",
              "      <td>22.0</td>\n",
              "      <td>01A</td>\n",
              "      <td>1156099.0</td>\n",
              "      <td>1914609.0</td>\n",
              "      <td>2009</td>\n",
              "      <td>3/19/2019 16:11</td>\n",
              "      <td>41.921478</td>\n",
              "      <td>-87.701877</td>\n",
              "      <td>(41.921477579, -87.701877404)</td>\n",
              "      <td>North</td>\n",
              "      <td>22</td>\n",
              "      <td>Wednesday</td>\n",
              "      <td>before 2010</td>\n",
              "    </tr>\n",
              "    <tr>\n",
              "      <th>4731</th>\n",
              "      <td>5124</td>\n",
              "      <td>HR431228</td>\n",
              "      <td>2009-07-16 00:03:00</td>\n",
              "      <td>064XX S EGGLESTON AVE</td>\n",
              "      <td>110</td>\n",
              "      <td>HOMICIDE</td>\n",
              "      <td>FIRST DEGREE MURDER</td>\n",
              "      <td>STREET</td>\n",
              "      <td>False</td>\n",
              "      <td>False</td>\n",
              "      <td>722</td>\n",
              "      <td>7</td>\n",
              "      <td>20.0</td>\n",
              "      <td>68.0</td>\n",
              "      <td>01A</td>\n",
              "      <td>1174385.0</td>\n",
              "      <td>1862242.0</td>\n",
              "      <td>2009</td>\n",
              "      <td>3/18/2019 16:08</td>\n",
              "      <td>41.777389</td>\n",
              "      <td>-87.636252</td>\n",
              "      <td>(41.777389372, -87.636252284)</td>\n",
              "      <td>North</td>\n",
              "      <td>0</td>\n",
              "      <td>Thursday</td>\n",
              "      <td>before 2010</td>\n",
              "    </tr>\n",
              "  </tbody>\n",
              "</table>\n",
              "<p>4732 rows × 26 columns</p>\n",
              "</div>"
            ],
            "text/plain": [
              "        ID Case Number                Date  ... Hour   Week Day         type\n",
              "0      983     G446123 2001-07-29 10:15:00  ...   10     Sunday  before 2010\n",
              "1      905     G380193 2001-06-29 23:26:00  ...   23     Friday  before 2010\n",
              "2      937     G411262 2001-07-15 00:34:00  ...    0     Sunday  before 2010\n",
              "3     1000     G397434 2001-08-09 19:30:00  ...   19   Thursday  before 2010\n",
              "4     1001     G473112 2001-08-10 01:04:00  ...    1     Friday  before 2010\n",
              "...    ...         ...                 ...  ...  ...        ...          ...\n",
              "4727  5120    HR412222 2009-07-14 00:30:00  ...    0    Tuesday  before 2010\n",
              "4728  5121    HR427696 2009-07-14 04:00:00  ...    4    Tuesday  before 2010\n",
              "4729  5122    HR427791 2009-07-14 03:56:00  ...    3    Tuesday  before 2010\n",
              "4730  5123    HR431090 2009-07-15 22:07:00  ...   22  Wednesday  before 2010\n",
              "4731  5124    HR431228 2009-07-16 00:03:00  ...    0   Thursday  before 2010\n",
              "\n",
              "[4732 rows x 26 columns]"
            ]
          },
          "metadata": {
            "tags": []
          },
          "execution_count": 64
        }
      ]
    },
    {
      "cell_type": "code",
      "metadata": {
        "id": "cYu69S-nQCMr",
        "colab_type": "code",
        "outputId": "189c2a7a-d000-4c49-defd-89c63e47cf63",
        "colab": {
          "base_uri": "https://localhost:8080/",
          "height": 774
        }
      },
      "source": [
        "# after 2010 dataframe\n",
        "after_2010"
      ],
      "execution_count": 0,
      "outputs": [
        {
          "output_type": "execute_result",
          "data": {
            "text/html": [
              "<div>\n",
              "<style scoped>\n",
              "    .dataframe tbody tr th:only-of-type {\n",
              "        vertical-align: middle;\n",
              "    }\n",
              "\n",
              "    .dataframe tbody tr th {\n",
              "        vertical-align: top;\n",
              "    }\n",
              "\n",
              "    .dataframe thead th {\n",
              "        text-align: right;\n",
              "    }\n",
              "</style>\n",
              "<table border=\"1\" class=\"dataframe\">\n",
              "  <thead>\n",
              "    <tr style=\"text-align: right;\">\n",
              "      <th></th>\n",
              "      <th>ID</th>\n",
              "      <th>Case Number</th>\n",
              "      <th>Date</th>\n",
              "      <th>Block</th>\n",
              "      <th>IUCR</th>\n",
              "      <th>Primary Type</th>\n",
              "      <th>Description</th>\n",
              "      <th>Location Description</th>\n",
              "      <th>Arrest</th>\n",
              "      <th>Domestic</th>\n",
              "      <th>Beat</th>\n",
              "      <th>District</th>\n",
              "      <th>Ward</th>\n",
              "      <th>Community Area</th>\n",
              "      <th>FBI Code</th>\n",
              "      <th>X Coordinate</th>\n",
              "      <th>Y Coordinate</th>\n",
              "      <th>Year</th>\n",
              "      <th>Updated On</th>\n",
              "      <th>Latitude</th>\n",
              "      <th>Longitude</th>\n",
              "      <th>Location</th>\n",
              "      <th>district_string</th>\n",
              "      <th>Hour</th>\n",
              "      <th>Week Day</th>\n",
              "      <th>type</th>\n",
              "    </tr>\n",
              "  </thead>\n",
              "  <tbody>\n",
              "    <tr>\n",
              "      <th>4732</th>\n",
              "      <td>19711</td>\n",
              "      <td>HS657617</td>\n",
              "      <td>2010-12-13 02:02:00</td>\n",
              "      <td>057XX S DAMEN AVE</td>\n",
              "      <td>110</td>\n",
              "      <td>HOMICIDE</td>\n",
              "      <td>FIRST DEGREE MURDER</td>\n",
              "      <td>GANGWAY</td>\n",
              "      <td>True</td>\n",
              "      <td>False</td>\n",
              "      <td>715</td>\n",
              "      <td>7</td>\n",
              "      <td>15.0</td>\n",
              "      <td>67.0</td>\n",
              "      <td>01A</td>\n",
              "      <td>1164006.0</td>\n",
              "      <td>1866628.0</td>\n",
              "      <td>2010</td>\n",
              "      <td>9/4/2019 16:07</td>\n",
              "      <td>41.789650</td>\n",
              "      <td>-87.674178</td>\n",
              "      <td>(41.789649698, -87.674178458)</td>\n",
              "      <td>North</td>\n",
              "      <td>2</td>\n",
              "      <td>Monday</td>\n",
              "      <td>after 2010</td>\n",
              "    </tr>\n",
              "    <tr>\n",
              "      <th>4733</th>\n",
              "      <td>19304</td>\n",
              "      <td>HS227745</td>\n",
              "      <td>2010-03-27 04:50:00</td>\n",
              "      <td>124XX S MICHIGAN AVE</td>\n",
              "      <td>110</td>\n",
              "      <td>HOMICIDE</td>\n",
              "      <td>FIRST DEGREE MURDER</td>\n",
              "      <td>HOUSE</td>\n",
              "      <td>True</td>\n",
              "      <td>False</td>\n",
              "      <td>532</td>\n",
              "      <td>5</td>\n",
              "      <td>9.0</td>\n",
              "      <td>53.0</td>\n",
              "      <td>01A</td>\n",
              "      <td>1179095.0</td>\n",
              "      <td>1822625.0</td>\n",
              "      <td>2010</td>\n",
              "      <td>6/17/2019 16:07</td>\n",
              "      <td>41.668569</td>\n",
              "      <td>-87.620189</td>\n",
              "      <td>(41.668569194, -87.620188694)</td>\n",
              "      <td>South</td>\n",
              "      <td>4</td>\n",
              "      <td>Saturday</td>\n",
              "      <td>after 2010</td>\n",
              "    </tr>\n",
              "    <tr>\n",
              "      <th>4734</th>\n",
              "      <td>19237</td>\n",
              "      <td>HS102143</td>\n",
              "      <td>2010-01-02 16:17:00</td>\n",
              "      <td>110XX S LOWE AVE</td>\n",
              "      <td>110</td>\n",
              "      <td>HOMICIDE</td>\n",
              "      <td>FIRST DEGREE MURDER</td>\n",
              "      <td>HOUSE</td>\n",
              "      <td>True</td>\n",
              "      <td>False</td>\n",
              "      <td>2233</td>\n",
              "      <td>22</td>\n",
              "      <td>34.0</td>\n",
              "      <td>49.0</td>\n",
              "      <td>01A</td>\n",
              "      <td>1173942.0</td>\n",
              "      <td>1831677.0</td>\n",
              "      <td>2010</td>\n",
              "      <td>3/19/2019 16:11</td>\n",
              "      <td>41.693525</td>\n",
              "      <td>-87.638781</td>\n",
              "      <td>(41.693524794, -87.638780573)</td>\n",
              "      <td>South</td>\n",
              "      <td>16</td>\n",
              "      <td>Saturday</td>\n",
              "      <td>after 2010</td>\n",
              "    </tr>\n",
              "    <tr>\n",
              "      <th>4735</th>\n",
              "      <td>19238</td>\n",
              "      <td>HS101859</td>\n",
              "      <td>2010-01-02 21:44:00</td>\n",
              "      <td>057XX S LOOMIS BLVD</td>\n",
              "      <td>110</td>\n",
              "      <td>HOMICIDE</td>\n",
              "      <td>FIRST DEGREE MURDER</td>\n",
              "      <td>AUTO</td>\n",
              "      <td>False</td>\n",
              "      <td>False</td>\n",
              "      <td>713</td>\n",
              "      <td>7</td>\n",
              "      <td>16.0</td>\n",
              "      <td>67.0</td>\n",
              "      <td>01A</td>\n",
              "      <td>1167976.0</td>\n",
              "      <td>1866692.0</td>\n",
              "      <td>2010</td>\n",
              "      <td>3/18/2019 16:08</td>\n",
              "      <td>41.789741</td>\n",
              "      <td>-87.659620</td>\n",
              "      <td>(41.789740875, -87.659619818)</td>\n",
              "      <td>North</td>\n",
              "      <td>21</td>\n",
              "      <td>Saturday</td>\n",
              "      <td>after 2010</td>\n",
              "    </tr>\n",
              "    <tr>\n",
              "      <th>4736</th>\n",
              "      <td>19239</td>\n",
              "      <td>HS102573</td>\n",
              "      <td>2010-01-03 15:04:00</td>\n",
              "      <td>059XX S WOLCOTT AVE</td>\n",
              "      <td>110</td>\n",
              "      <td>HOMICIDE</td>\n",
              "      <td>FIRST DEGREE MURDER</td>\n",
              "      <td>HOUSE</td>\n",
              "      <td>False</td>\n",
              "      <td>False</td>\n",
              "      <td>714</td>\n",
              "      <td>7</td>\n",
              "      <td>15.0</td>\n",
              "      <td>67.0</td>\n",
              "      <td>01A</td>\n",
              "      <td>1164705.0</td>\n",
              "      <td>1865282.0</td>\n",
              "      <td>2010</td>\n",
              "      <td>3/19/2019 16:11</td>\n",
              "      <td>41.785941</td>\n",
              "      <td>-87.671653</td>\n",
              "      <td>(41.785941369, -87.671653413)</td>\n",
              "      <td>North</td>\n",
              "      <td>15</td>\n",
              "      <td>Sunday</td>\n",
              "      <td>after 2010</td>\n",
              "    </tr>\n",
              "    <tr>\n",
              "      <th>...</th>\n",
              "      <td>...</td>\n",
              "      <td>...</td>\n",
              "      <td>...</td>\n",
              "      <td>...</td>\n",
              "      <td>...</td>\n",
              "      <td>...</td>\n",
              "      <td>...</td>\n",
              "      <td>...</td>\n",
              "      <td>...</td>\n",
              "      <td>...</td>\n",
              "      <td>...</td>\n",
              "      <td>...</td>\n",
              "      <td>...</td>\n",
              "      <td>...</td>\n",
              "      <td>...</td>\n",
              "      <td>...</td>\n",
              "      <td>...</td>\n",
              "      <td>...</td>\n",
              "      <td>...</td>\n",
              "      <td>...</td>\n",
              "      <td>...</td>\n",
              "      <td>...</td>\n",
              "      <td>...</td>\n",
              "      <td>...</td>\n",
              "      <td>...</td>\n",
              "      <td>...</td>\n",
              "    </tr>\n",
              "    <tr>\n",
              "      <th>10032</th>\n",
              "      <td>24551</td>\n",
              "      <td>JC271105</td>\n",
              "      <td>2019-05-20 18:07:00</td>\n",
              "      <td>078XX S STATE ST</td>\n",
              "      <td>110</td>\n",
              "      <td>HOMICIDE</td>\n",
              "      <td>FIRST DEGREE MURDER</td>\n",
              "      <td>STREET</td>\n",
              "      <td>False</td>\n",
              "      <td>False</td>\n",
              "      <td>623</td>\n",
              "      <td>6</td>\n",
              "      <td>6.0</td>\n",
              "      <td>69.0</td>\n",
              "      <td>01A</td>\n",
              "      <td>1177650.0</td>\n",
              "      <td>1852817.0</td>\n",
              "      <td>2019</td>\n",
              "      <td>5/27/2019 16:12</td>\n",
              "      <td>41.751453</td>\n",
              "      <td>-87.624568</td>\n",
              "      <td>(41.751452878, -87.624567581)</td>\n",
              "      <td>South</td>\n",
              "      <td>18</td>\n",
              "      <td>Monday</td>\n",
              "      <td>after 2010</td>\n",
              "    </tr>\n",
              "    <tr>\n",
              "      <th>10033</th>\n",
              "      <td>24554</td>\n",
              "      <td>JC274572</td>\n",
              "      <td>2019-05-23 01:00:00</td>\n",
              "      <td>069XX S MAPLEWOOD AVE</td>\n",
              "      <td>110</td>\n",
              "      <td>HOMICIDE</td>\n",
              "      <td>FIRST DEGREE MURDER</td>\n",
              "      <td>PORCH</td>\n",
              "      <td>False</td>\n",
              "      <td>False</td>\n",
              "      <td>832</td>\n",
              "      <td>8</td>\n",
              "      <td>17.0</td>\n",
              "      <td>66.0</td>\n",
              "      <td>01A</td>\n",
              "      <td>1160573.0</td>\n",
              "      <td>1858532.0</td>\n",
              "      <td>2019</td>\n",
              "      <td>5/30/2019 16:12</td>\n",
              "      <td>41.767505</td>\n",
              "      <td>-87.686989</td>\n",
              "      <td>(41.767504682, -87.686989416)</td>\n",
              "      <td>Central</td>\n",
              "      <td>1</td>\n",
              "      <td>Thursday</td>\n",
              "      <td>after 2010</td>\n",
              "    </tr>\n",
              "    <tr>\n",
              "      <th>10034</th>\n",
              "      <td>24556</td>\n",
              "      <td>JC276141</td>\n",
              "      <td>2019-05-24 02:12:00</td>\n",
              "      <td>013XX W 61ST ST</td>\n",
              "      <td>110</td>\n",
              "      <td>HOMICIDE</td>\n",
              "      <td>FIRST DEGREE MURDER</td>\n",
              "      <td>GARAGE</td>\n",
              "      <td>False</td>\n",
              "      <td>False</td>\n",
              "      <td>713</td>\n",
              "      <td>7</td>\n",
              "      <td>16.0</td>\n",
              "      <td>67.0</td>\n",
              "      <td>01A</td>\n",
              "      <td>1168477.0</td>\n",
              "      <td>1864312.0</td>\n",
              "      <td>2019</td>\n",
              "      <td>5/31/2019 16:09</td>\n",
              "      <td>41.783199</td>\n",
              "      <td>-87.657851</td>\n",
              "      <td>(41.783199083, -87.657851361)</td>\n",
              "      <td>North</td>\n",
              "      <td>2</td>\n",
              "      <td>Friday</td>\n",
              "      <td>after 2010</td>\n",
              "    </tr>\n",
              "    <tr>\n",
              "      <th>10035</th>\n",
              "      <td>24557</td>\n",
              "      <td>JC278422</td>\n",
              "      <td>2019-05-25 19:01:00</td>\n",
              "      <td>001XX W 109TH PL</td>\n",
              "      <td>110</td>\n",
              "      <td>HOMICIDE</td>\n",
              "      <td>FIRST DEGREE MURDER</td>\n",
              "      <td>GANGWAY</td>\n",
              "      <td>False</td>\n",
              "      <td>False</td>\n",
              "      <td>513</td>\n",
              "      <td>5</td>\n",
              "      <td>34.0</td>\n",
              "      <td>49.0</td>\n",
              "      <td>01A</td>\n",
              "      <td>1177313.0</td>\n",
              "      <td>1832344.0</td>\n",
              "      <td>2019</td>\n",
              "      <td>6/1/2019 16:04</td>\n",
              "      <td>41.695280</td>\n",
              "      <td>-87.626419</td>\n",
              "      <td>(41.695279885, -87.626418591)</td>\n",
              "      <td>South</td>\n",
              "      <td>19</td>\n",
              "      <td>Saturday</td>\n",
              "      <td>after 2010</td>\n",
              "    </tr>\n",
              "    <tr>\n",
              "      <th>10036</th>\n",
              "      <td>24558</td>\n",
              "      <td>JC278685</td>\n",
              "      <td>2019-05-25 23:43:00</td>\n",
              "      <td>004XX W 77TH ST</td>\n",
              "      <td>110</td>\n",
              "      <td>HOMICIDE</td>\n",
              "      <td>FIRST DEGREE MURDER</td>\n",
              "      <td>STREET</td>\n",
              "      <td>False</td>\n",
              "      <td>False</td>\n",
              "      <td>621</td>\n",
              "      <td>6</td>\n",
              "      <td>17.0</td>\n",
              "      <td>69.0</td>\n",
              "      <td>01A</td>\n",
              "      <td>1174853.0</td>\n",
              "      <td>1853877.0</td>\n",
              "      <td>2019</td>\n",
              "      <td>6/1/2019 16:04</td>\n",
              "      <td>41.754424</td>\n",
              "      <td>-87.634786</td>\n",
              "      <td>(41.754424418, -87.634785654)</td>\n",
              "      <td>South</td>\n",
              "      <td>23</td>\n",
              "      <td>Saturday</td>\n",
              "      <td>after 2010</td>\n",
              "    </tr>\n",
              "  </tbody>\n",
              "</table>\n",
              "<p>5305 rows × 26 columns</p>\n",
              "</div>"
            ],
            "text/plain": [
              "          ID Case Number                Date  ... Hour  Week Day        type\n",
              "4732   19711    HS657617 2010-12-13 02:02:00  ...    2    Monday  after 2010\n",
              "4733   19304    HS227745 2010-03-27 04:50:00  ...    4  Saturday  after 2010\n",
              "4734   19237    HS102143 2010-01-02 16:17:00  ...   16  Saturday  after 2010\n",
              "4735   19238    HS101859 2010-01-02 21:44:00  ...   21  Saturday  after 2010\n",
              "4736   19239    HS102573 2010-01-03 15:04:00  ...   15    Sunday  after 2010\n",
              "...      ...         ...                 ...  ...  ...       ...         ...\n",
              "10032  24551    JC271105 2019-05-20 18:07:00  ...   18    Monday  after 2010\n",
              "10033  24554    JC274572 2019-05-23 01:00:00  ...    1  Thursday  after 2010\n",
              "10034  24556    JC276141 2019-05-24 02:12:00  ...    2    Friday  after 2010\n",
              "10035  24557    JC278422 2019-05-25 19:01:00  ...   19  Saturday  after 2010\n",
              "10036  24558    JC278685 2019-05-25 23:43:00  ...   23  Saturday  after 2010\n",
              "\n",
              "[5305 rows x 26 columns]"
            ]
          },
          "metadata": {
            "tags": []
          },
          "execution_count": 65
        }
      ]
    },
    {
      "cell_type": "code",
      "metadata": {
        "id": "1S2XZcocdWBi",
        "colab_type": "code",
        "outputId": "ac254cd5-97d4-4bfa-c1a6-bc9cde904652",
        "colab": {
          "base_uri": "https://localhost:8080/",
          "height": 284
        }
      },
      "source": [
        "# before 2010 count, mean, standard deviation, minimum, 1st quartile, median, 3rd quartile, and maximum\n",
        "before_2010.describe()"
      ],
      "execution_count": 0,
      "outputs": [
        {
          "output_type": "execute_result",
          "data": {
            "text/html": [
              "<div>\n",
              "<style scoped>\n",
              "    .dataframe tbody tr th:only-of-type {\n",
              "        vertical-align: middle;\n",
              "    }\n",
              "\n",
              "    .dataframe tbody tr th {\n",
              "        vertical-align: top;\n",
              "    }\n",
              "\n",
              "    .dataframe thead th {\n",
              "        text-align: right;\n",
              "    }\n",
              "</style>\n",
              "<table border=\"1\" class=\"dataframe\">\n",
              "  <thead>\n",
              "    <tr style=\"text-align: right;\">\n",
              "      <th></th>\n",
              "      <th>ID</th>\n",
              "      <th>IUCR</th>\n",
              "      <th>Beat</th>\n",
              "      <th>District</th>\n",
              "      <th>Ward</th>\n",
              "      <th>Community Area</th>\n",
              "      <th>X Coordinate</th>\n",
              "      <th>Y Coordinate</th>\n",
              "      <th>Year</th>\n",
              "      <th>Latitude</th>\n",
              "      <th>Longitude</th>\n",
              "      <th>Hour</th>\n",
              "    </tr>\n",
              "  </thead>\n",
              "  <tbody>\n",
              "    <tr>\n",
              "      <th>count</th>\n",
              "      <td>4.732000e+03</td>\n",
              "      <td>4732.000000</td>\n",
              "      <td>4732.000000</td>\n",
              "      <td>4732.000000</td>\n",
              "      <td>4348.000000</td>\n",
              "      <td>4348.000000</td>\n",
              "      <td>4.730000e+03</td>\n",
              "      <td>4.730000e+03</td>\n",
              "      <td>4732.000000</td>\n",
              "      <td>4730.000000</td>\n",
              "      <td>4730.000000</td>\n",
              "      <td>4732.000000</td>\n",
              "    </tr>\n",
              "    <tr>\n",
              "      <th>mean</th>\n",
              "      <td>1.477847e+04</td>\n",
              "      <td>110.087701</td>\n",
              "      <td>1066.821429</td>\n",
              "      <td>10.166948</td>\n",
              "      <td>19.721711</td>\n",
              "      <td>41.583257</td>\n",
              "      <td>1.152416e+06</td>\n",
              "      <td>1.857222e+06</td>\n",
              "      <td>2004.672443</td>\n",
              "      <td>41.763257</td>\n",
              "      <td>-87.713530</td>\n",
              "      <td>11.270499</td>\n",
              "    </tr>\n",
              "    <tr>\n",
              "      <th>std</th>\n",
              "      <td>2.171405e+05</td>\n",
              "      <td>1.671159</td>\n",
              "      <td>645.291323</td>\n",
              "      <td>6.353267</td>\n",
              "      <td>11.819197</td>\n",
              "      <td>19.611683</td>\n",
              "      <td>1.236678e+05</td>\n",
              "      <td>1.997932e+05</td>\n",
              "      <td>2.648757</td>\n",
              "      <td>0.553280</td>\n",
              "      <td>0.426725</td>\n",
              "      <td>7.953917</td>\n",
              "    </tr>\n",
              "    <tr>\n",
              "      <th>min</th>\n",
              "      <td>6.340000e+02</td>\n",
              "      <td>110.000000</td>\n",
              "      <td>111.000000</td>\n",
              "      <td>1.000000</td>\n",
              "      <td>1.000000</td>\n",
              "      <td>1.000000</td>\n",
              "      <td>0.000000e+00</td>\n",
              "      <td>0.000000e+00</td>\n",
              "      <td>2001.000000</td>\n",
              "      <td>36.619446</td>\n",
              "      <td>-91.686566</td>\n",
              "      <td>0.000000</td>\n",
              "    </tr>\n",
              "    <tr>\n",
              "      <th>25%</th>\n",
              "      <td>1.816750e+03</td>\n",
              "      <td>110.000000</td>\n",
              "      <td>611.000000</td>\n",
              "      <td>5.000000</td>\n",
              "      <td>9.000000</td>\n",
              "      <td>25.000000</td>\n",
              "      <td>1.152432e+06</td>\n",
              "      <td>1.855570e+06</td>\n",
              "      <td>2002.000000</td>\n",
              "      <td>41.758878</td>\n",
              "      <td>-87.715631</td>\n",
              "      <td>3.000000</td>\n",
              "    </tr>\n",
              "    <tr>\n",
              "      <th>50%</th>\n",
              "      <td>3.000500e+03</td>\n",
              "      <td>110.000000</td>\n",
              "      <td>931.000000</td>\n",
              "      <td>9.000000</td>\n",
              "      <td>20.000000</td>\n",
              "      <td>42.000000</td>\n",
              "      <td>1.165988e+06</td>\n",
              "      <td>1.873471e+06</td>\n",
              "      <td>2004.000000</td>\n",
              "      <td>41.808213</td>\n",
              "      <td>-87.666422</td>\n",
              "      <td>12.000000</td>\n",
              "    </tr>\n",
              "    <tr>\n",
              "      <th>75%</th>\n",
              "      <td>4.184250e+03</td>\n",
              "      <td>110.000000</td>\n",
              "      <td>1422.000000</td>\n",
              "      <td>14.000000</td>\n",
              "      <td>28.000000</td>\n",
              "      <td>61.000000</td>\n",
              "      <td>1.177166e+06</td>\n",
              "      <td>1.901437e+06</td>\n",
              "      <td>2007.000000</td>\n",
              "      <td>41.885384</td>\n",
              "      <td>-87.626117</td>\n",
              "      <td>19.000000</td>\n",
              "    </tr>\n",
              "    <tr>\n",
              "      <th>max</th>\n",
              "      <td>5.097907e+06</td>\n",
              "      <td>142.000000</td>\n",
              "      <td>2535.000000</td>\n",
              "      <td>25.000000</td>\n",
              "      <td>50.000000</td>\n",
              "      <td>77.000000</td>\n",
              "      <td>1.204790e+06</td>\n",
              "      <td>1.951122e+06</td>\n",
              "      <td>2009.000000</td>\n",
              "      <td>42.021515</td>\n",
              "      <td>-87.525759</td>\n",
              "      <td>23.000000</td>\n",
              "    </tr>\n",
              "  </tbody>\n",
              "</table>\n",
              "</div>"
            ],
            "text/plain": [
              "                 ID         IUCR  ...    Longitude         Hour\n",
              "count  4.732000e+03  4732.000000  ...  4730.000000  4732.000000\n",
              "mean   1.477847e+04   110.087701  ...   -87.713530    11.270499\n",
              "std    2.171405e+05     1.671159  ...     0.426725     7.953917\n",
              "min    6.340000e+02   110.000000  ...   -91.686566     0.000000\n",
              "25%    1.816750e+03   110.000000  ...   -87.715631     3.000000\n",
              "50%    3.000500e+03   110.000000  ...   -87.666422    12.000000\n",
              "75%    4.184250e+03   110.000000  ...   -87.626117    19.000000\n",
              "max    5.097907e+06   142.000000  ...   -87.525759    23.000000\n",
              "\n",
              "[8 rows x 12 columns]"
            ]
          },
          "metadata": {
            "tags": []
          },
          "execution_count": 66
        }
      ]
    },
    {
      "cell_type": "code",
      "metadata": {
        "id": "bJ86-GhgLyDY",
        "colab_type": "code",
        "outputId": "7283ca74-941f-4606-dd23-5a041fa19dd7",
        "colab": {
          "base_uri": "https://localhost:8080/",
          "height": 202
        }
      },
      "source": [
        "# here are the yearly murder totals per year before 2010\n",
        "before_2010.groupby('Year').size()"
      ],
      "execution_count": 0,
      "outputs": [
        {
          "output_type": "execute_result",
          "data": {
            "text/plain": [
              "Year\n",
              "2001    667\n",
              "2002    657\n",
              "2003    604\n",
              "2004    454\n",
              "2005    453\n",
              "2006    476\n",
              "2007    448\n",
              "2008    513\n",
              "2009    460\n",
              "dtype: int64"
            ]
          },
          "metadata": {
            "tags": []
          },
          "execution_count": 67
        }
      ]
    },
    {
      "cell_type": "code",
      "metadata": {
        "id": "fCkekNw2dcP7",
        "colab_type": "code",
        "outputId": "8b970931-e51d-4a7a-b334-64bf8c617f45",
        "colab": {
          "base_uri": "https://localhost:8080/",
          "height": 284
        }
      },
      "source": [
        "# after 2010 count, mean, standard deviation, minimum, 1st quartile, median, 3rd quartile, and maximum\n",
        "after_2010.describe()"
      ],
      "execution_count": 0,
      "outputs": [
        {
          "output_type": "execute_result",
          "data": {
            "text/html": [
              "<div>\n",
              "<style scoped>\n",
              "    .dataframe tbody tr th:only-of-type {\n",
              "        vertical-align: middle;\n",
              "    }\n",
              "\n",
              "    .dataframe tbody tr th {\n",
              "        vertical-align: top;\n",
              "    }\n",
              "\n",
              "    .dataframe thead th {\n",
              "        text-align: right;\n",
              "    }\n",
              "</style>\n",
              "<table border=\"1\" class=\"dataframe\">\n",
              "  <thead>\n",
              "    <tr style=\"text-align: right;\">\n",
              "      <th></th>\n",
              "      <th>ID</th>\n",
              "      <th>IUCR</th>\n",
              "      <th>Beat</th>\n",
              "      <th>District</th>\n",
              "      <th>Ward</th>\n",
              "      <th>Community Area</th>\n",
              "      <th>X Coordinate</th>\n",
              "      <th>Y Coordinate</th>\n",
              "      <th>Year</th>\n",
              "      <th>Latitude</th>\n",
              "      <th>Longitude</th>\n",
              "      <th>Hour</th>\n",
              "    </tr>\n",
              "  </thead>\n",
              "  <tbody>\n",
              "    <tr>\n",
              "      <th>count</th>\n",
              "      <td>5.305000e+03</td>\n",
              "      <td>5305.000000</td>\n",
              "      <td>5305.000000</td>\n",
              "      <td>5305.000000</td>\n",
              "      <td>5305.000000</td>\n",
              "      <td>5305.000000</td>\n",
              "      <td>5.304000e+03</td>\n",
              "      <td>5.304000e+03</td>\n",
              "      <td>5305.000000</td>\n",
              "      <td>5304.000000</td>\n",
              "      <td>5304.000000</td>\n",
              "      <td>5305.000000</td>\n",
              "    </tr>\n",
              "    <tr>\n",
              "      <th>mean</th>\n",
              "      <td>1.016940e+05</td>\n",
              "      <td>110.232611</td>\n",
              "      <td>1019.215457</td>\n",
              "      <td>9.928181</td>\n",
              "      <td>19.957964</td>\n",
              "      <td>43.406598</td>\n",
              "      <td>1.165206e+06</td>\n",
              "      <td>1.875942e+06</td>\n",
              "      <td>2014.840339</td>\n",
              "      <td>41.815169</td>\n",
              "      <td>-87.669563</td>\n",
              "      <td>12.059189</td>\n",
              "    </tr>\n",
              "    <tr>\n",
              "      <th>std</th>\n",
              "      <td>9.276932e+05</td>\n",
              "      <td>2.708116</td>\n",
              "      <td>614.409027</td>\n",
              "      <td>6.118698</td>\n",
              "      <td>11.402743</td>\n",
              "      <td>19.515560</td>\n",
              "      <td>1.582342e+04</td>\n",
              "      <td>2.850801e+04</td>\n",
              "      <td>2.795836</td>\n",
              "      <td>0.078455</td>\n",
              "      <td>0.057503</td>\n",
              "      <td>7.657834</td>\n",
              "    </tr>\n",
              "    <tr>\n",
              "      <th>min</th>\n",
              "      <td>1.923700e+04</td>\n",
              "      <td>110.000000</td>\n",
              "      <td>111.000000</td>\n",
              "      <td>1.000000</td>\n",
              "      <td>1.000000</td>\n",
              "      <td>1.000000</td>\n",
              "      <td>1.116633e+06</td>\n",
              "      <td>1.815115e+06</td>\n",
              "      <td>2010.000000</td>\n",
              "      <td>41.647923</td>\n",
              "      <td>-87.846467</td>\n",
              "      <td>0.000000</td>\n",
              "    </tr>\n",
              "    <tr>\n",
              "      <th>25%</th>\n",
              "      <td>2.069800e+04</td>\n",
              "      <td>110.000000</td>\n",
              "      <td>611.000000</td>\n",
              "      <td>6.000000</td>\n",
              "      <td>9.000000</td>\n",
              "      <td>26.000000</td>\n",
              "      <td>1.152236e+06</td>\n",
              "      <td>1.854744e+06</td>\n",
              "      <td>2012.000000</td>\n",
              "      <td>41.756500</td>\n",
              "      <td>-87.716538</td>\n",
              "      <td>4.000000</td>\n",
              "    </tr>\n",
              "    <tr>\n",
              "      <th>50%</th>\n",
              "      <td>2.218000e+04</td>\n",
              "      <td>110.000000</td>\n",
              "      <td>913.000000</td>\n",
              "      <td>9.000000</td>\n",
              "      <td>20.000000</td>\n",
              "      <td>43.000000</td>\n",
              "      <td>1.166098e+06</td>\n",
              "      <td>1.869651e+06</td>\n",
              "      <td>2015.000000</td>\n",
              "      <td>41.797828</td>\n",
              "      <td>-87.666415</td>\n",
              "      <td>13.000000</td>\n",
              "    </tr>\n",
              "    <tr>\n",
              "      <th>75%</th>\n",
              "      <td>2.355500e+04</td>\n",
              "      <td>110.000000</td>\n",
              "      <td>1231.000000</td>\n",
              "      <td>12.000000</td>\n",
              "      <td>28.000000</td>\n",
              "      <td>63.000000</td>\n",
              "      <td>1.177360e+06</td>\n",
              "      <td>1.899325e+06</td>\n",
              "      <td>2017.000000</td>\n",
              "      <td>41.879691</td>\n",
              "      <td>-87.625751</td>\n",
              "      <td>19.000000</td>\n",
              "    </tr>\n",
              "    <tr>\n",
              "      <th>max</th>\n",
              "      <td>1.192834e+07</td>\n",
              "      <td>142.000000</td>\n",
              "      <td>2535.000000</td>\n",
              "      <td>25.000000</td>\n",
              "      <td>50.000000</td>\n",
              "      <td>77.000000</td>\n",
              "      <td>1.204706e+06</td>\n",
              "      <td>1.951492e+06</td>\n",
              "      <td>2019.000000</td>\n",
              "      <td>42.022548</td>\n",
              "      <td>-87.526025</td>\n",
              "      <td>23.000000</td>\n",
              "    </tr>\n",
              "  </tbody>\n",
              "</table>\n",
              "</div>"
            ],
            "text/plain": [
              "                 ID         IUCR  ...    Longitude         Hour\n",
              "count  5.305000e+03  5305.000000  ...  5304.000000  5305.000000\n",
              "mean   1.016940e+05   110.232611  ...   -87.669563    12.059189\n",
              "std    9.276932e+05     2.708116  ...     0.057503     7.657834\n",
              "min    1.923700e+04   110.000000  ...   -87.846467     0.000000\n",
              "25%    2.069800e+04   110.000000  ...   -87.716538     4.000000\n",
              "50%    2.218000e+04   110.000000  ...   -87.666415    13.000000\n",
              "75%    2.355500e+04   110.000000  ...   -87.625751    19.000000\n",
              "max    1.192834e+07   142.000000  ...   -87.526025    23.000000\n",
              "\n",
              "[8 rows x 12 columns]"
            ]
          },
          "metadata": {
            "tags": []
          },
          "execution_count": 69
        }
      ]
    },
    {
      "cell_type": "code",
      "metadata": {
        "id": "XLHFoaJjWqXY",
        "colab_type": "code",
        "outputId": "e8b98edb-1d05-473c-a9c0-23b0f1235ad8",
        "colab": {
          "base_uri": "https://localhost:8080/",
          "height": 218
        }
      },
      "source": [
        "# here are the yearly murder totals per year after and including 2010\n",
        "after_2010.groupby('Year').size()"
      ],
      "execution_count": 0,
      "outputs": [
        {
          "output_type": "execute_result",
          "data": {
            "text/plain": [
              "Year\n",
              "2010    438\n",
              "2011    438\n",
              "2012    515\n",
              "2013    429\n",
              "2014    426\n",
              "2015    502\n",
              "2016    788\n",
              "2017    674\n",
              "2018    592\n",
              "2019    503\n",
              "dtype: int64"
            ]
          },
          "metadata": {
            "tags": []
          },
          "execution_count": 77
        }
      ]
    },
    {
      "cell_type": "markdown",
      "metadata": {
        "id": "u0LwJxkkBhhg",
        "colab_type": "text"
      },
      "source": [
        "Now, I compared the distriubtions of the two samples. They are very similar."
      ]
    },
    {
      "cell_type": "code",
      "metadata": {
        "id": "-Cv0k39_drS-",
        "colab_type": "code",
        "outputId": "09b1f8dc-a54c-4bfb-e4d2-4810661e5d0e",
        "colab": {
          "base_uri": "https://localhost:8080/",
          "height": 355
        }
      },
      "source": [
        "fig, ax = plt.subplots(1,2, figsize=(12,5))\n",
        "sns.distplot(before_2010['Hour'], bins=24, ax=ax[0], color='navy')\n",
        "ax[0].set_title('before_2010')\n",
        "sns.distplot(after_2010['Hour'], bins=24, ax=ax[1], color='navy')\n",
        "ax[1].set_title('after_2010');"
      ],
      "execution_count": 0,
      "outputs": [
        {
          "output_type": "display_data",
          "data": {
            "image/png": "[encoded data removed]",
            "text/plain": [
              "<Figure size 864x360 with 2 Axes>"
            ]
          },
          "metadata": {
            "tags": []
          }
        }
      ]
    },
    {
      "cell_type": "code",
      "metadata": {
        "id": "VIaNF9FEpLvx",
        "colab_type": "code",
        "outputId": "490c24c7-6f73-43df-d4d4-25966c7b0e78",
        "colab": {
          "base_uri": "https://localhost:8080/",
          "height": 151
        }
      },
      "source": [
        "# Information about the hour when homicides occurred\n",
        "\n",
        "def series_statistics(column):\n",
        "  print('statistics for column: {}'.format(column.name))\n",
        "  print('The max value in the column: {}'.format(column.max()))\n",
        "  print('The min value in the column: {}'.format(column.min()))\n",
        "  print('The mode value in the column: {}'.format(column.mode()))\n",
        "  print('The median value in the column: {}'.format(column.median()))\n",
        "  print('The mean of the column: {}'.format(column.mean()))\n",
        "  print('The std of the column: {}'.format(column.std()))\n",
        "\n",
        "series_statistics(df_not_2020['Hour'])"
      ],
      "execution_count": 0,
      "outputs": [
        {
          "output_type": "stream",
          "text": [
            "statistics for column: Hour\n",
            "The max value in the column: 23\n",
            "The min value in the column: 0\n",
            "The mode value in the column: 0    0\n",
            "dtype: int64\n",
            "The median value in the column: 13.0\n",
            "The mean of the column: 11.687356779914317\n",
            "The std of the column: 7.808367204690474\n"
          ],
          "name": "stdout"
        }
      ]
    },
    {
      "cell_type": "code",
      "metadata": {
        "id": "dagO6hDKvgNO",
        "colab_type": "code",
        "outputId": "86c7d31c-fad3-44b4-a4b0-b1037c30e406",
        "colab": {
          "base_uri": "https://localhost:8080/",
          "height": 34
        }
      },
      "source": [
        "# t-test for 'Hour'\n",
        "from statsmodels.stats.weightstats import ttest_ind\n",
        "ttest = ttest_ind(before_2010['Hour'], after_2010['Hour'])\n",
        "ttest"
      ],
      "execution_count": 0,
      "outputs": [
        {
          "output_type": "execute_result",
          "data": {
            "text/plain": [
              "(-5.057556655801321, 4.321706223519158e-07, 10035.0)"
            ]
          },
          "metadata": {
            "tags": []
          },
          "execution_count": 72
        }
      ]
    },
    {
      "cell_type": "markdown",
      "metadata": {
        "id": "0k-S4pYY5BDU",
        "colab_type": "text"
      },
      "source": [
        "Since my p-value was less than 0.05, I reject my null hypothesis. In the context of my project, that means that the number of murders has stayed the same or gone up from 2001 to 2019."
      ]
    },
    {
      "cell_type": "code",
      "metadata": {
        "id": "CGBVgQ4uof8K",
        "colab_type": "code",
        "outputId": "d3dad809-95be-4a90-bb8f-6a1d35f8366c",
        "colab": {
          "base_uri": "https://localhost:8080/",
          "height": 34
        }
      },
      "source": [
        "# t-test for 'Year'\n",
        "ttest = ttest_ind(before_2010.groupby('Year').size(), after_2010.groupby('Year').size())\n",
        "ttest"
      ],
      "execution_count": 0,
      "outputs": [
        {
          "output_type": "execute_result",
          "data": {
            "text/plain": [
              "(-0.09533504510766026, 0.9251634745927606, 17.0)"
            ]
          },
          "metadata": {
            "tags": []
          },
          "execution_count": 73
        }
      ]
    },
    {
      "cell_type": "markdown",
      "metadata": {
        "id": "Pbp5e-nSMSh5",
        "colab_type": "text"
      },
      "source": [
        "This above data was done because I thought about looking more closely at the year."
      ]
    },
    {
      "cell_type": "code",
      "metadata": {
        "id": "_RG35g5x-7aH",
        "colab_type": "code",
        "outputId": "0e88802a-5bc7-4112-9b72-606e4c8ac0c5",
        "colab": {
          "base_uri": "https://localhost:8080/",
          "height": 34
        }
      },
      "source": [
        "# Calculate the standard error and compute the confidence intervals\n",
        "#confidence intervals\n",
        "\n",
        "sample_1_n = before_2010.shape[0]\n",
        "sample_2_n = after_2010.shape[0]\n",
        "sample_1_mean = before_2010['Hour'].mean()\n",
        "sample_2_mean = after_2010['Hour'].mean()\n",
        "sample_1_var = before_2010['Hour'].var()\n",
        "sample_2_var = after_2010['Hour'].var()\n",
        "\n",
        "import math\n",
        "\n",
        "std_err_difference = math.sqrt((sample_1_var/sample_1_n)+(sample_2_var/sample_2_n))\n",
        "\n",
        "mean_difference = sample_2_mean - sample_1_mean\n",
        "\n",
        "margin_of_error = 1.96 * std_err_difference\n",
        "ci_lower = mean_difference - margin_of_error\n",
        "ci_upper = mean_difference + margin_of_error\n",
        "\n",
        "print(\"The difference in means at the 95% confidence interval is between \"+str(ci_lower)+\" and \"+str(ci_upper)+\".\")"
      ],
      "execution_count": 0,
      "outputs": [
        {
          "output_type": "stream",
          "text": [
            "The difference in means at the 95% confidence interval is between 0.4823799684586586 and 1.0950014553086125.\n"
          ],
          "name": "stdout"
        }
      ]
    },
    {
      "cell_type": "code",
      "metadata": {
        "id": "KhzW2r_5_uiC",
        "colab_type": "code",
        "outputId": "57f69c1e-5e54-453b-ada9-a5e44601dadd",
        "colab": {
          "base_uri": "https://localhost:8080/",
          "height": 34
        }
      },
      "source": [
        "#Cohen's d function\n",
        "\n",
        "def get_cohens_d(array_1, array_2):\n",
        "    sample_1_n = array_1.shape[0]\n",
        "    sample_2_n = array_2.shape[0]\n",
        "    sample_1_mean = array_1.mean()\n",
        "    sample_2_mean = array_2.mean()\n",
        "    sample_1_var = array_1.var()\n",
        "    sample_2_var = array_2.var()\n",
        "    s_pooled = math.sqrt((sample_1_var + sample_2_var)/2)\n",
        "    cohens = (sample_1_mean - sample_2_mean) / s_pooled\n",
        "    \n",
        "    return(\"Cohen's d is: \"+str(cohens)+ \".\")\n",
        "  \n",
        "print(get_cohens_d(before_2010['Hour'], after_2010['Hour']))"
      ],
      "execution_count": 0,
      "outputs": [
        {
          "output_type": "stream",
          "text": [
            "Cohen's d is: -0.10101991685443167.\n"
          ],
          "name": "stdout"
        }
      ]
    },
    {
      "cell_type": "code",
      "metadata": {
        "id": "urOxthnz_9a-",
        "colab_type": "code",
        "outputId": "3b657d49-fa3a-428e-bd64-84f1c7b4eeaa",
        "colab": {
          "base_uri": "https://localhost:8080/",
          "height": 355
        }
      },
      "source": [
        "murder_test= pd.concat([before_2010, after_2010])\n",
        "\n",
        "plt.figure(figsize = (11,5))\n",
        "sns.barplot(x=\"type\", y=\"Hour\", data=murder_test)\n",
        "plt.xlabel('Year')\n",
        "plt.ylabel('Hour')\n",
        "plt.title('Murder by Hour 2000-2009 vs 2010-2019');"
      ],
      "execution_count": 0,
      "outputs": [
        {
          "output_type": "display_data",
          "data": {
            "image/png": "[encoded data removed]",
            "text/plain": [
              "<Figure size 792x360 with 1 Axes>"
            ]
          },
          "metadata": {
            "tags": []
          }
        }
      ]
    },
    {
      "cell_type": "markdown",
      "metadata": {
        "id": "rC80Wjs3XF5w",
        "colab_type": "text"
      },
      "source": [
        ""
      ]
    },
    {
      "cell_type": "markdown",
      "metadata": {
        "id": "LECeWluSFHbV",
        "colab_type": "text"
      },
      "source": [
        "Based on my data above, I would reject my null hypothesis and accept that the number of murders stayed the same or went up from 2001 to 2019.\n"
      ]
    },
    {
      "cell_type": "markdown",
      "metadata": {
        "id": "eAB07DPeK17A",
        "colab_type": "text"
      },
      "source": [
        "# Conclusion\n",
        "\n",
        "From my data, I reject the null hypothesis that the number of murders went down from 2001 to 2019. \n",
        "This is not surprising at all to me. Chicago is a tale of two cities where the difference between the haves and the have nots is growing drastically. The worse areas of Chicago are getting worse, while the nicer areas are either getting nicer or staying the same. Further, since the worse areas of Chicago are getting poorer, people are turning to crime.\n",
        "Two groups of people that can use my data to make decisions about Chicago are the city council and people moving to Chicago. The former can use my data to make decisions about how to bring down Chicago's murder rate (shifting of the police force, development location, etc.). The latter can use my data by determining where in Chicago they want to live."
      ]
    }
  ]
}